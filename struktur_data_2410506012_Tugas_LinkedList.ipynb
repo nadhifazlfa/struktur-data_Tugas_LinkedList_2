{
  "nbformat": 4,
  "nbformat_minor": 0,
  "metadata": {
    "colab": {
      "provenance": [],
      "authorship_tag": "ABX9TyOIfj+q74aGJwxGA5C0MpN0",
      "include_colab_link": true
    },
    "kernelspec": {
      "name": "python3",
      "display_name": "Python 3"
    },
    "language_info": {
      "name": "python"
    }
  },
  "cells": [
    {
      "cell_type": "markdown",
      "metadata": {
        "id": "view-in-github",
        "colab_type": "text"
      },
      "source": [
        "<a href=\"https://colab.research.google.com/github/nadhifazlfa/struktur-data_Tugas_LinkedList_2/blob/main/struktur_data_2410506012_Tugas_LinkedList.ipynb\" target=\"_parent\"><img src=\"https://colab.research.google.com/assets/colab-badge.svg\" alt=\"Open In Colab\"/></a>"
      ]
    },
    {
      "cell_type": "code",
      "execution_count": 1,
      "metadata": {
        "colab": {
          "base_uri": "https://localhost:8080/"
        },
        "id": "SKS10xq5yXwJ",
        "outputId": "c90668bb-ef6c-4f8d-c75d-40c0002595ca"
      },
      "outputs": [
        {
          "output_type": "stream",
          "name": "stdout",
          "text": [
            "Masukkan nama satpam ke-1: Septiana\n",
            "Masukkan nama satpam ke-2: Sita\n",
            "Masukkan nama satpam ke-3: Evellyn\n",
            "Masukkan nama satpam ke-4: Dzakki\n",
            "\n",
            "Jadwal Piket Satpam Selama 2 Minggu:\n",
            "\n",
            "Hari 1: Septiana\n",
            "Hari 2: Sita\n",
            "Hari 3: Evellyn\n",
            "Hari 4: Dzakki\n",
            "Hari 5: Septiana\n",
            "Hari 6: Sita\n",
            "Hari 7: Evellyn\n",
            "Hari 8: Dzakki\n",
            "Hari 9: Septiana\n",
            "Hari 10: Sita\n",
            "Hari 11: Evellyn\n",
            "Hari 12: Dzakki\n",
            "Hari 13: Septiana\n",
            "Hari 14: Sita\n"
          ]
        }
      ],
      "source": [
        "class SatpamNode:\n",
        "  def __init__(self,name):\n",
        "      self.name = name\n",
        "      self.next = None\n",
        "\n",
        "class CircularLinkedList:\n",
        "  def __init__(self):\n",
        "      self.head = None\n",
        "\n",
        "  def add_satpam(self, name):\n",
        "      new_node = SatpamNode(name)\n",
        "      if not self.head:\n",
        "          self.head  = new_node\n",
        "          self.head.next = self.head\n",
        "      else:\n",
        "          temp = self.head\n",
        "          while temp.next != self.head:\n",
        "              temp = temp.next\n",
        "          temp.next = new_node\n",
        "          new_node.next = self.head\n",
        "\n",
        "  def print_schedule(self, days=14):\n",
        "      if not self.head:\n",
        "        print(\"Tidak ada satpam yang bertugas.\")\n",
        "        return\n",
        "\n",
        "      print(\"\\nJadwal Piket Satpam Selama 2 Minggu:\\n\")\n",
        "      current = self.head\n",
        "\n",
        "      for day in range(1, days + 1):\n",
        "          print(f\"Hari {day}: {current.name}\")\n",
        "          current = current.next\n",
        "\n",
        "#MAIN\n",
        "satpam_list = CircularLinkedList()\n",
        "\n",
        "for i in range(1, 5):\n",
        "    name = input(f\"Masukkan nama satpam ke-{i}: \")\n",
        "    satpam_list.add_satpam(name)\n",
        "\n",
        "satpam_list.print_schedule()\n",
        "\n",
        ""
      ]
    }
  ]
}